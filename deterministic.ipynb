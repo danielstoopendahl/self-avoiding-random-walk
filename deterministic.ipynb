{
 "cells": [
  {
   "cell_type": "code",
   "execution_count": 1,
   "metadata": {},
   "outputs": [],
   "source": [
    "import numpy as np"
   ]
  },
  {
   "cell_type": "code",
   "execution_count": null,
   "metadata": {},
   "outputs": [],
   "source": [
    "def nbr_paths(L):\n",
    "    filled_coords = set()\n",
    "    pos = (0,0)\n",
    "    return continue_path(L, 0, pos, filled_coords)\n",
    "\n",
    "\n",
    "def continue_path(L, l, pos, occupied_coords):\n",
    "    if l == L:\n",
    "        return 1\n",
    "    completed_paths = 0\n",
    "    for neighbour in available_neighbours(pos, occupied_coords):\n",
    "        occupied_coords.add(pos)\n",
    "        completed_paths += continue_path(L, l + 1, pos=neighbour, occupied_coords=occupied_coords.union(pos))\n",
    "    return completed_paths\n",
    "\n",
    "\n",
    "def available_neighbours(current_pos, occupied_coords):\n",
    "    available = []\n",
    "    x,y = current_pos\n",
    "    if (x + 1, y) not in occupied_coords:\n",
    "        available.append((x + 1, y))\n",
    "    if (x - 1, y) not in occupied_coords:\n",
    "        available.append((x - 1, y))\n",
    "    if (x, y + 1) not in occupied_coords:\n",
    "        available.append((x, y + 1))\n",
    "    if (x, y - 1) not in occupied_coords:\n",
    "        available.append((x, y - 1))\n",
    "\n",
    "    return available"
   ]
  },
  {
   "cell_type": "code",
   "execution_count": 15,
   "metadata": {},
   "outputs": [
    {
     "data": {
      "text/plain": [
       "6416596"
      ]
     },
     "execution_count": 15,
     "metadata": {},
     "output_type": "execute_result"
    }
   ],
   "source": [
    "\n",
    "nbr_paths(15)"
   ]
  }
 ],
 "metadata": {
  "kernelspec": {
   "display_name": "base",
   "language": "python",
   "name": "python3"
  },
  "language_info": {
   "codemirror_mode": {
    "name": "ipython",
    "version": 3
   },
   "file_extension": ".py",
   "mimetype": "text/x-python",
   "name": "python",
   "nbconvert_exporter": "python",
   "pygments_lexer": "ipython3",
   "version": "3.12.2"
  }
 },
 "nbformat": 4,
 "nbformat_minor": 2
}
