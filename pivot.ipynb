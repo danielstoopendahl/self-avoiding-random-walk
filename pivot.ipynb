{
 "cells": [
  {
   "cell_type": "code",
   "execution_count": 2,
   "id": "306c1c92",
   "metadata": {},
   "outputs": [],
   "source": [
    "import numpy as np\n",
    "import random\n",
    "import matplotlib.pyplot as plt\n",
    "import multiprocessing"
   ]
  },
  {
   "cell_type": "markdown",
   "id": "40c8bfc6",
   "metadata": {},
   "source": [
    "# Basic SAW generator\n",
    "Does not generate SAWs uniformly"
   ]
  },
  {
   "cell_type": "code",
   "execution_count": 3,
   "id": "4e230542",
   "metadata": {},
   "outputs": [],
   "source": [
    "DIRECTIONS = np.array([[1, 0], [0, 1], [-1, 0], [0, -1]])"
   ]
  },
  {
   "cell_type": "code",
   "execution_count": 4,
   "id": "d3d5d9c9",
   "metadata": {},
   "outputs": [],
   "source": [
    "def generate_valid_saw(L):\n",
    "    while True:\n",
    "        coords = [np.array([0, 0])]\n",
    "        visited = set((0, 0))\n",
    "\n",
    "        while len(coords) <= L:\n",
    "            neighbours = [move + coords[-1] for move in DIRECTIONS if tuple(move + coords[-1]) not in visited]\n",
    "            if len(neighbours) == 0: # no possible moves, keep still\n",
    "                break\n",
    "            coords.append(random.choice(neighbours))\n",
    "            visited.add(tuple(coords[-1]))\n",
    "        if len(coords) == L + 1:\n",
    "            return np.array(coords)\n"
   ]
  },
  {
   "cell_type": "markdown",
   "id": "b40fce9c",
   "metadata": {},
   "source": [
    "Simpler generation of SAWs are required when the length of the walks get long, for example: just a straight line"
   ]
  },
  {
   "cell_type": "code",
   "execution_count": 5,
   "id": "24c00172",
   "metadata": {},
   "outputs": [],
   "source": [
    "def generate_straight_line_saw(L):\n",
    "    return np.array([[i, 0] for i in range(L + 1)])"
   ]
  },
  {
   "cell_type": "code",
   "execution_count": 6,
   "id": "5258da52",
   "metadata": {},
   "outputs": [
    {
     "data": {
      "text/plain": [
       "array([[ 0,  0],\n",
       "       [ 0, -1],\n",
       "       [-1, -1],\n",
       "       [-1,  0],\n",
       "       [ 0,  0],\n",
       "       [ 0,  1],\n",
       "       [ 1,  1],\n",
       "       [ 1,  0],\n",
       "       [ 1, -1],\n",
       "       [ 1, -2],\n",
       "       [ 2, -2]])"
      ]
     },
     "execution_count": 6,
     "metadata": {},
     "output_type": "execute_result"
    }
   ],
   "source": [
    "generate_valid_saw(10)"
   ]
  },
  {
   "cell_type": "code",
   "execution_count": 7,
   "id": "f0df6ce3",
   "metadata": {},
   "outputs": [
    {
     "data": {
      "text/plain": [
       "array([[ 0,  0],\n",
       "       [ 1,  0],\n",
       "       [ 2,  0],\n",
       "       [ 3,  0],\n",
       "       [ 4,  0],\n",
       "       [ 5,  0],\n",
       "       [ 6,  0],\n",
       "       [ 7,  0],\n",
       "       [ 8,  0],\n",
       "       [ 9,  0],\n",
       "       [10,  0]])"
      ]
     },
     "execution_count": 7,
     "metadata": {},
     "output_type": "execute_result"
    }
   ],
   "source": [
    "generate_straight_line_saw(10)"
   ]
  },
  {
   "cell_type": "markdown",
   "id": "eee9cbdb",
   "metadata": {},
   "source": [
    "# Recursive SAW formulation"
   ]
  },
  {
   "cell_type": "markdown",
   "id": "185c9e6c",
   "metadata": {},
   "source": [
    "Let $B(L_A, L_B)$ be the probability that when sampling SAWs of length $L_A$ and $L_B$ independently and uniformly at random, their concatenation is still a SAW.\n",
    "\n",
    "$B(L_A, L_B) = {c_{L_A + L_B} \\over c_{L_A} c_{L_B}}$\n",
    "\n",
    "$\\mu^{L_A} \\approx {c_{L_A + L_B} \\over c_{L_B}} = B(L_A, L_B) c_{L_A}$\n",
    "\n",
    "We can generate samples of SAWs of length $L_A$ and $L_B$ to estimate $B(L_A, L_B)$"
   ]
  },
  {
   "cell_type": "code",
   "execution_count": 8,
   "id": "b10993ec",
   "metadata": {},
   "outputs": [],
   "source": [
    "# Returns True if z_A can be concatenated with z_B\n",
    "# such that the resulting SAW is valid\n",
    "def can_concatenate(z_A, z_B):\n",
    "    z = np.concatenate((z_A, z_B[1:]+z_A[-1])).tolist()\n",
    "    return len(z) == len(set(map(tuple, z)))\n",
    "\n",
    "\n",
    "def estimate_B(Z_A, Z_B):\n",
    "    if len(Z_A) != len(Z_B):\n",
    "        raise ValueError(\"Z_A and Z_B must have the same length\")\n",
    "\n",
    "    Z = zip(Z_A, Z_B)\n",
    "\n",
    "    successes = 0\n",
    "    for z_A, z_B in Z:\n",
    "        if can_concatenate(z_A, z_B):\n",
    "            successes += 1\n",
    "\n",
    "    return successes / len(Z_A)\n",
    "\n",
    "\n",
    "# estimates c_{L_A + L_B}\n",
    "def estimate_c(Z_A, Z_B, c_L_A, c_L_B):\n",
    "    return estimate_B(Z_A, Z_B) * c_L_A * c_L_B\n",
    "\n",
    "\n",
    "def estimate_mu(C):\n",
    "    mus = []\n",
    "    for c1, c2 in zip(C[:-1], C[1:]):\n",
    "        mus.append((c2[1] / c1[1]) ** (1 / c1[0]))\n",
    "    return mus\n"
   ]
  },
  {
   "cell_type": "markdown",
   "id": "543af2bc",
   "metadata": {},
   "source": [
    "# Generating SAWs with Pivot Algorithm"
   ]
  },
  {
   "cell_type": "code",
   "execution_count": 9,
   "id": "4a9ef293",
   "metadata": {},
   "outputs": [],
   "source": [
    "def pivot(z, pivot_generator, transform_generator):\n",
    "    pivot_idx = pivot_generator(len(z)-1)\n",
    "    transform = transform_generator(z)\n",
    "    \n",
    "    before = z[:pivot_idx + 1]\n",
    "    pivot = z[pivot_idx]\n",
    "    after = z[pivot_idx + 1:] - pivot\n",
    "    z_new = np.vstack((before, (after @ transform.T) + pivot))\n",
    "\n",
    "    if len(set(map(tuple, z_new))) != len(z_new):\n",
    "        return z, False\n",
    "    return z_new, True\n",
    "\n",
    "\n",
    "def generate_saw_pivot(z, pivot_generator, transform_generator):\n",
    "    successes = 0\n",
    "    b = 0\n",
    "    while successes < len(z):\n",
    "        pivot_idx = pivot_generator(z) \n",
    "        z, success = pivot(z, lambda _: pivot_idx, transform_generator)\n",
    "        if success:\n",
    "            successes += 1\n",
    "        b += 1\n",
    "    return z\n",
    "\n",
    "\n",
    "def saw_pivot_batch_generator(L, n, walk_generator, pivot_generator, transform_generator):\n",
    "    z = walk_generator(L)\n",
    "    Z = []\n",
    "    for _ in range(10):\n",
    "        z = generate_saw_pivot(z, pivot_generator, transform_generator)\n",
    "    for _ in range(n):\n",
    "        z = generate_saw_pivot(z, pivot_generator, transform_generator)\n",
    "        Z.append(z)\n",
    "    return Z"
   ]
  },
  {
   "cell_type": "markdown",
   "id": "33885925",
   "metadata": {},
   "source": [
    "# Transformation generator"
   ]
  },
  {
   "cell_type": "code",
   "execution_count": 10,
   "id": "4ac68f62",
   "metadata": {},
   "outputs": [],
   "source": [
    "TRANSFORMS = [\n",
    "    np.array([[1, 0], [0, 1]]), # identity\n",
    "    np.array([[-1, 0], [0, 1]]), # reflect over y-axis\n",
    "    np.array([[1, 0], [0, -1]]), # reflect over x-axis\n",
    "    np.array([[-1, 0], [0, -1]]), # rotate 180 degrees\n",
    "    np.array([[0, 1], [1, 0]]), # reflect over y=x\n",
    "    np.array([[0, -1], [1, 0]]), # rotate 90 degrees counterclockwise\n",
    "    np.array([[0, 1], [-1, 0]]), # rotate 90 degrees clockwise\n",
    "    np.array([[0, -1], [-1, 0]]) # reflect over y=-x\n",
    "]"
   ]
  },
  {
   "cell_type": "code",
   "execution_count": 11,
   "id": "427a151a",
   "metadata": {},
   "outputs": [],
   "source": [
    "# z is a param for more complex transform generators\n",
    "# that take the current state of the walk into account\n",
    "def naive_transform_generator(z):\n",
    "    return random.choice(TRANSFORMS)\n"
   ]
  },
  {
   "cell_type": "markdown",
   "id": "23eef797",
   "metadata": {},
   "source": [
    "# Pivot generator"
   ]
  },
  {
   "cell_type": "code",
   "execution_count": 12,
   "id": "6bbc168b",
   "metadata": {},
   "outputs": [],
   "source": [
    "def uniform_pivot_generator(z):\n",
    "    L = len(z)-1\n",
    "    return random.randint(1, L)\n",
    "\n",
    "\n",
    "def gaussian_pivot_generator(z):\n",
    "    L = len(z)-1\n",
    "    mean = (L + 1) / 2\n",
    "    stddev = L / 4\n",
    "    pivot = round(np.random.normal(mean, stddev))\n",
    "    if pivot < 1:\n",
    "        return 1\n",
    "    elif pivot > L:\n",
    "        return L\n",
    "    return pivot\n",
    "\n",
    "\n"
   ]
  },
  {
   "cell_type": "markdown",
   "id": "31035548",
   "metadata": {},
   "source": [
    "# Speed comparison"
   ]
  },
  {
   "cell_type": "code",
   "execution_count": 13,
   "id": "f62db11d",
   "metadata": {},
   "outputs": [],
   "source": [
    "Z_1 = saw_pivot_batch_generator(10, 40_000, generate_straight_line_saw, uniform_pivot_generator, naive_transform_generator)"
   ]
  },
  {
   "cell_type": "code",
   "execution_count": 14,
   "id": "cf1afa37",
   "metadata": {},
   "outputs": [],
   "source": [
    "Z_2 = saw_pivot_batch_generator(10, 40_000, generate_straight_line_saw, gaussian_pivot_generator, naive_transform_generator)"
   ]
  },
  {
   "cell_type": "markdown",
   "id": "0be6a54d",
   "metadata": {},
   "source": [
    "# Multi-threading"
   ]
  },
  {
   "cell_type": "code",
   "execution_count": 15,
   "id": "d6142296",
   "metadata": {},
   "outputs": [],
   "source": [
    "\n",
    "def generator(p):\n",
    "    L, no_samples = p\n",
    "    return saw_pivot_batch_generator(L, no_samples, generate_straight_line_saw, uniform_pivot_generator, naive_transform_generator)\n",
    "\n",
    "def generate_saw_pivot_multi(L, n, nbr_threads):\n",
    "    \n",
    "    # Calculate batch sizes\n",
    "    batch_size = n // nbr_threads\n",
    "    batches = [(L, batch_size)] * nbr_threads\n",
    "    if n % nbr_threads != 0:\n",
    "        batches[-1] = (L, batches[-1][1] + n % nbr_threads)  # Add the remainder to the last batch\n",
    "\n",
    "    with multiprocessing.Pool(processes=nbr_threads) as pool:\n",
    "        results = pool.map(generator, batches)\n",
    "    \n",
    "    # Combine results\n",
    "    return np.vstack(results)"
   ]
  },
  {
   "cell_type": "code",
   "execution_count": 16,
   "id": "8b9c7c8f",
   "metadata": {},
   "outputs": [],
   "source": [
    "Z = generate_saw_pivot_multi(80, 10_000, 8)"
   ]
  },
  {
   "cell_type": "markdown",
   "id": "dcd08806",
   "metadata": {},
   "source": [
    "# Estimation"
   ]
  },
  {
   "cell_type": "code",
   "execution_count": 17,
   "id": "b047c390",
   "metadata": {},
   "outputs": [
    {
     "name": "stdout",
     "output_type": "stream",
     "text": [
      "Working on L = 20...\n",
      "Working on L = 40...\n",
      "Working on L = 80...\n",
      "Working on L = 160...\n",
      "Working on L = 320...\n",
      "Working on L = 640...\n"
     ]
    }
   ],
   "source": [
    "C_pivot = [(10, 44100)]\n",
    "n = 10_000\n",
    "stopping_condition = 640 # stops when the last L is less than this value\n",
    "\n",
    "while C_pivot[-1][0] < stopping_condition:\n",
    "    L, c_L = C_pivot[-1]\n",
    "    print(f'Working on L = {2*L}...')\n",
    "    Z = generate_saw_pivot_multi(L, n, 8)\n",
    "    C_pivot.append((L*2, estimate_c(Z[:len(Z)//2], Z[len(Z)//2:], c_L, c_L)))"
   ]
  },
  {
   "cell_type": "code",
   "execution_count": 18,
   "id": "29329fec",
   "metadata": {},
   "outputs": [
    {
     "data": {
      "text/plain": [
       "[(10, 44100),\n",
       " (20, 954123786.0),\n",
       " (40, 3.472083287027854e+17),\n",
       " (80, 3.7540398364309074e+34),\n",
       " (160, 3.3766384964050425e+68),\n",
       " (320, 2.2096470443613934e+136),\n",
       " (640, 7.489816453044834e+271)]"
      ]
     },
     "execution_count": 18,
     "metadata": {},
     "output_type": "execute_result"
    }
   ],
   "source": [
    "C_pivot"
   ]
  },
  {
   "cell_type": "code",
   "execution_count": 19,
   "id": "f52a84e1",
   "metadata": {},
   "outputs": [
    {
     "data": {
      "text/plain": [
       "[2.713417448191254,\n",
       " 2.6794722928861687,\n",
       " 2.6659237185511016,\n",
       " 2.657203532556366,\n",
       " 2.6536826782906497,\n",
       " 2.6517447233739477]"
      ]
     },
     "execution_count": 19,
     "metadata": {},
     "output_type": "execute_result"
    }
   ],
   "source": [
    "estimate_mu(C_pivot)"
   ]
  },
  {
   "cell_type": "code",
   "execution_count": 20,
   "id": "7f1593f9",
   "metadata": {},
   "outputs": [],
   "source": [
    "X = np.array([L for L, _ in C_pivot])\n",
    "Y1 = np.array([c_L for _, c_L in C_pivot])\n",
    "Y2 = np.array([mu for mu in estimate_mu(C_pivot)])"
   ]
  },
  {
   "cell_type": "markdown",
   "id": "420c5eb0",
   "metadata": {},
   "source": [
    "# Visualisation"
   ]
  },
  {
   "cell_type": "code",
   "execution_count": 25,
   "id": "b091cdd8",
   "metadata": {},
   "outputs": [
    {
     "data": {
      "image/png": "[encoded data removed]",
      "text/plain": [
       "<Figure size 640x480 with 1 Axes>"
      ]
     },
     "metadata": {},
     "output_type": "display_data"
    }
   ],
   "source": [
    "plt.plot(X, np.log(Y1))\n",
    "plt.title(\"Pivot Algorithm c_L (log scale)\")\n",
    "plt.xlabel(\"L\")\n",
    "\n",
    "plt.ylabel(\"log(c_L)\")\n",
    "plt.savefig(\"diagrams/pivot1.png\")"
   ]
  },
  {
   "cell_type": "code",
   "execution_count": 26,
   "id": "78c65a9f",
   "metadata": {},
   "outputs": [
    {
     "data": {
      "image/png": "[encoded data removed]",
      "text/plain": [
       "<Figure size 640x480 with 1 Axes>"
      ]
     },
     "metadata": {},
     "output_type": "display_data"
    }
   ],
   "source": [
    "plt.plot(X[1:], Y2)\n",
    "plt.title(\"Pivot Algorithm mu\")\n",
    "plt.xlabel(\"L\")\n",
    "plt.ylabel(\"mu\")\n",
    "plt.savefig(\"diagrams/pivot2.png\")"
   ]
  }
 ],
 "metadata": {
  "kernelspec": {
   "display_name": "base",
   "language": "python",
   "name": "python3"
  },
  "language_info": {
   "codemirror_mode": {
    "name": "ipython",
    "version": 3
   },
   "file_extension": ".py",
   "mimetype": "text/x-python",
   "name": "python",
   "nbconvert_exporter": "python",
   "pygments_lexer": "ipython3",
   "version": "3.12.2"
  }
 },
 "nbformat": 4,
 "nbformat_minor": 5
}
