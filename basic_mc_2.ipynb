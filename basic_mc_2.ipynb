{
 "cells": [
  {
   "cell_type": "code",
   "execution_count": 1,
   "metadata": {},
   "outputs": [],
   "source": [
    "import numpy as np\n",
    "import random"
   ]
  },
  {
   "cell_type": "markdown",
   "metadata": {},
   "source": [
    "# Sampler for loose Self Avoiding Random Walks (SARW)\n",
    "\n",
    "We define a **loose** SARW as a SARW that is allowed to be stuck, i.e. a **loose** SARW of length $L$ may move for $C$ steps, where $C < L$ before having no possible moves."
   ]
  },
  {
   "cell_type": "code",
   "execution_count": 69,
   "metadata": {},
   "outputs": [],
   "source": [
    "# Returns a list of possible next coordinates\n",
    "def get_candidates(coord, visited):\n",
    "    candidates = []\n",
    "    \n",
    "    for dx, dy in [(0, -1), (0, 1), (-1, 0), (1, 0)]:\n",
    "        new_coord = (coord[0] + dx, coord[1] + dy)\n",
    "        if new_coord not in visited:\n",
    "            candidates.append(new_coord)\n",
    "    return candidates\n",
    "\n",
    "\n",
    "# Generates a loose SARW of length L\n",
    "def generate_loose_sarw(L):\n",
    "    coords = [(0, 0)]\n",
    "    visited = set(coords)\n",
    "    while len(coords) <= L:\n",
    "        candidates = get_candidates(coords[-1], visited)\n",
    "        if len(candidates) == 0: # no possible moves, keep still\n",
    "            coords += [coords[-1]]*(L+1-len(coords))\n",
    "            break\n",
    "        coords.append(random.choice(candidates))\n",
    "        visited.add(coords[-1])\n",
    "    return coords\n"
   ]
  },
  {
   "cell_type": "code",
   "execution_count": 102,
   "metadata": {},
   "outputs": [
    {
     "name": "stdout",
     "output_type": "stream",
     "text": [
      "Generated loose SARW of length 10:\n",
      "[(0, 0), (0, -1), (-1, -1), (-1, -2), (-1, -3), (0, -3), (0, -2), (1, -2), (2, -2), (2, -1), (3, -1)]\n",
      "\n",
      "Generated stuck SARW of length 10:\n",
      "[(0, 0), (0, 1), (-1, 1), (-2, 1), (-2, 0), (-2, -1), (-2, -2), (-1, -2), (-1, -1), (-1, 0), (-1, 0)]\n"
     ]
    }
   ],
   "source": [
    "print(\"Generated loose SARW of length 10:\")\n",
    "print(generate_loose_sarw(10))\n",
    "\n",
    "print(\"\\nGenerated stuck SARW of length 10:\")\n",
    "stuck_example = None\n",
    "while stuck_example == None:\n",
    "    curr = generate_loose_sarw(10)\n",
    "    if len(curr) != len(set(curr)):\n",
    "        stuck_example = curr\n",
    "print(stuck_example)\n"
   ]
  },
  {
   "cell_type": "markdown",
   "metadata": {},
   "source": [
    "# Estimating $C_L$\n",
    "\n",
    "Using the loose SARW sampler, we can estimate $C_L$ with importance sampling. To do so, we first sample n loose SARW and weight each walk based on its survival probability, i.e. a higher survival probability would give it higher weightage.\n",
    "\n",
    "$W_i = \\prod^L_{t=1} m_t$, where $m_t$ is the number of valid moves at step $t$.\n",
    "\n",
    "The estimate for $c_L$ is then $c_L \\approx \\frac{1}{n} \\sum^n_{i=1} W_i$"
   ]
  },
  {
   "cell_type": "code",
   "execution_count": 126,
   "metadata": {},
   "outputs": [],
   "source": [
    "def get_weight(walk):\n",
    "    visited = set()\n",
    "    product = 1\n",
    "    for coord in walk[:-1]:\n",
    "        visited.add(coord)\n",
    "        m = len(get_candidates(coord, visited))\n",
    "        product *= m\n",
    "        if product == 0: # early termination\n",
    "            break\n",
    "    return product\n",
    "\n",
    "def estimate_C_n(L, n):\n",
    "    total_weight = 0\n",
    "    for _ in range(n):\n",
    "        walk = generate_loose_sarw(L)\n",
    "        total_weight += get_weight(walk)\n",
    "    return total_weight / n"
   ]
  },
  {
   "cell_type": "code",
   "execution_count": 130,
   "metadata": {},
   "outputs": [
    {
     "data": {
      "text/plain": [
       "5.35178493558573e+21"
      ]
     },
     "execution_count": 130,
     "metadata": {},
     "output_type": "execute_result"
    }
   ],
   "source": [
    "estimate_C_n(50, 100_000)"
   ]
  }
 ],
 "metadata": {
  "kernelspec": {
   "display_name": ".venv",
   "language": "python",
   "name": "python3"
  },
  "language_info": {
   "codemirror_mode": {
    "name": "ipython",
    "version": 3
   },
   "file_extension": ".py",
   "mimetype": "text/x-python",
   "name": "python",
   "nbconvert_exporter": "python",
   "pygments_lexer": "ipython3",
   "version": "3.12.9"
  }
 },
 "nbformat": 4,
 "nbformat_minor": 2
}
