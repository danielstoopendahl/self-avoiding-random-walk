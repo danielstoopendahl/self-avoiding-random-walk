{
 "cells": [
  {
   "cell_type": "code",
   "execution_count": 140,
   "metadata": {},
   "outputs": [],
   "source": [
    "import numpy as np\n",
    "import random\n",
    "import matplotlib.pyplot as plt"
   ]
  },
  {
   "cell_type": "markdown",
   "metadata": {},
   "source": [
    "# Sampler for loose Self Avoiding Walks (SAW)\n",
    "\n",
    "We define a **loose** SAW as a SAW that is allowed to be stuck, i.e. a **loose** SAW of length $L$ may move for $C$ steps, where $C < L$ before having no possible moves."
   ]
  },
  {
   "cell_type": "code",
   "execution_count": 133,
   "metadata": {},
   "outputs": [],
   "source": [
    "# Returns a list of possible next coordinates\n",
    "def get_candidates(coord, visited):\n",
    "    candidates = []\n",
    "    \n",
    "    for dx, dy in [(0, -1), (0, 1), (-1, 0), (1, 0)]:\n",
    "        new_coord = (coord[0] + dx, coord[1] + dy)\n",
    "        if new_coord not in visited:\n",
    "            candidates.append(new_coord)\n",
    "    return candidates\n",
    "\n",
    "\n",
    "# Generates a loose SAW of length L\n",
    "def generate_loose_saw(L):\n",
    "    coords = [(0, 0)]\n",
    "    visited = set(coords)\n",
    "    while len(coords) <= L:\n",
    "        candidates = get_candidates(coords[-1], visited)\n",
    "        if len(candidates) == 0: # no possible moves, keep still\n",
    "            coords += [coords[-1]]*(L+1-len(coords))\n",
    "            break\n",
    "        coords.append(random.choice(candidates))\n",
    "        visited.add(coords[-1])\n",
    "    return coords\n"
   ]
  },
  {
   "cell_type": "code",
   "execution_count": 134,
   "metadata": {},
   "outputs": [
    {
     "name": "stdout",
     "output_type": "stream",
     "text": [
      "Generated loose SAW of length 10:\n",
      "[(0, 0), (1, 0), (1, -1), (2, -1), (2, 0), (3, 0), (4, 0), (5, 0), (5, 1), (5, 2), (6, 2)]\n",
      "\n",
      "Generated stuck SAW of length 10:\n",
      "[(0, 0), (0, 1), (0, 2), (1, 2), (2, 2), (2, 1), (2, 0), (1, 0), (1, 1), (1, 1), (1, 1)]\n"
     ]
    }
   ],
   "source": [
    "print(\"Generated loose SAW of length 10:\")\n",
    "print(generate_loose_saw(10))\n",
    "\n",
    "print(\"\\nGenerated stuck SAW of length 10:\")\n",
    "stuck_example = None\n",
    "while stuck_example == None:\n",
    "    curr = generate_loose_saw(10)\n",
    "    if len(curr) != len(set(curr)):\n",
    "        stuck_example = curr\n",
    "print(stuck_example)\n"
   ]
  },
  {
   "cell_type": "markdown",
   "metadata": {},
   "source": [
    "# Estimating $c_L$\n",
    "\n",
    "Using the loose SAW sampler, we can estimate $c_L$ with importance sampling. To do so, we first sample n loose SAW and weight each walk based on its survival probability, i.e. a higher survival probability would give it higher weightage.\n",
    "\n",
    "$W_i = \\prod^L_{t=1} m_t$, where $m_t$ is the number of valid moves at step $t$.\n",
    "\n",
    "The estimate for $c_L$ is then $c_L \\approx \\frac{1}{n} \\sum^n_{i=1} W_i$"
   ]
  },
  {
   "cell_type": "code",
   "execution_count": 135,
   "metadata": {},
   "outputs": [],
   "source": [
    "def get_weight(walk):\n",
    "    visited = set()\n",
    "    product = 1\n",
    "    for coord in walk[:-1]:\n",
    "        visited.add(coord)\n",
    "        m = len(get_candidates(coord, visited))\n",
    "        product *= m\n",
    "        if product == 0: # early termination\n",
    "            break\n",
    "    return product\n",
    "\n",
    "def estimate_c_L(L, n):\n",
    "    total_weight = 0\n",
    "    for _ in range(n):\n",
    "        walk = generate_loose_sarw(L)\n",
    "        total_weight += get_weight(walk)\n",
    "    return total_weight / n"
   ]
  },
  {
   "cell_type": "code",
   "execution_count": null,
   "metadata": {},
   "outputs": [],
   "source": [
    "plt.savefig(\"basic_mc_2.png\")"
   ]
  },
  {
   "cell_type": "code",
   "execution_count": 146,
   "metadata": {},
   "outputs": [
    {
     "data": {
      "image/png": "[encoded data removed]",
      "text/plain": [
       "<Figure size 640x480 with 1 Axes>"
      ]
     },
     "metadata": {},
     "output_type": "display_data"
    }
   ],
   "source": [
    "X = range(5, 51, 5)\n",
    "Y = [estimate_c_L(L, 500_000) for L in X]\n",
    "plt.plot(X, np.log(Y))\n",
    "plt.title(\"Basic Monte Carlo Method 2\")\n",
    "plt.xlabel(\"L\")\n",
    "plt.ylabel(\"ln c_L\")\n",
    "plt.savefig(\"diagrams/basic_mc_2.png\")\n",
    "plt.show()"
   ]
  },
  {
   "cell_type": "code",
   "execution_count": 147,
   "metadata": {},
   "outputs": [
    {
     "name": "stdout",
     "output_type": "stream",
     "text": [
      "L = 5, c_L = 284.07564\n",
      "L = 10, c_L = 44097.396624\n",
      "L = 15, c_L = 6430955.655384\n",
      "L = 20, c_L = 898224894.731736\n",
      "L = 25, c_L = 123457757279.64531\n",
      "L = 30, c_L = 16786146668536.078\n",
      "L = 35, c_L = 2243926353453718.0\n",
      "L = 40, c_L = 3.0103136852127296e+17\n",
      "L = 45, c_L = 3.981546421375573e+19\n",
      "L = 50, c_L = 5.305433390955165e+21\n"
     ]
    }
   ],
   "source": [
    "for x, y in zip(X, Y):\n",
    "    print(f\"L = {x}, c_L = {y}\")"
   ]
  }
 ],
 "metadata": {
  "kernelspec": {
   "display_name": ".venv",
   "language": "python",
   "name": "python3"
  },
  "language_info": {
   "codemirror_mode": {
    "name": "ipython",
    "version": 3
   },
   "file_extension": ".py",
   "mimetype": "text/x-python",
   "name": "python",
   "nbconvert_exporter": "python",
   "pygments_lexer": "ipython3",
   "version": "3.12.9"
  }
 },
 "nbformat": 4,
 "nbformat_minor": 2
}
