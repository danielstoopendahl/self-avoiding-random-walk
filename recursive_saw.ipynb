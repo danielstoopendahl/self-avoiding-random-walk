{
 "cells": [
  {
   "cell_type": "code",
   "execution_count": 3,
   "id": "306c1c92",
   "metadata": {},
   "outputs": [],
   "source": [
    "import numpy as np\n",
    "import random\n",
    "import matplotlib.pyplot as plt"
   ]
  },
  {
   "cell_type": "code",
   "execution_count": null,
   "id": "d3d5d9c9",
   "metadata": {},
   "outputs": [],
   "source": [
    "# Returns a list of possible next coordinates\n",
    "def get_candidate_moves(coord, visited):\n",
    "    candidates = []\n",
    "    \n",
    "    for dx, dy in [(0, -1), (0, 1), (-1, 0), (1, 0)]:\n",
    "        new_coord = (coord[0] + dx, coord[1] + dy)\n",
    "        if new_coord not in visited:\n",
    "            candidates.append((dx, dy))\n",
    "    return candidates\n",
    "\n",
    "\n",
    "# Returns the coordinates visited in order of when they were visited\n",
    "# and the moves made to get there, as well as whether the SAW is valid\n",
    "def generate_loose_saw(L):\n",
    "    coords = [(0, 0)]\n",
    "    moves = []\n",
    "    visited = set(coords)\n",
    "    while len(coords) <= L:\n",
    "        candidates = get_candidate_moves(coords[-1], visited)\n",
    "        if len(candidates) == 0: # no possible moves, keep still\n",
    "            coords += [coords[-1]]*(L+1-len(coords))\n",
    "            break\n",
    "        move = random.choice(candidates)\n",
    "        coords.append((coords[-1][0] + move[0], coords[-1][1] + move[1]))\n",
    "        moves.append(move)\n",
    "        visited.add(coords[-1])\n",
    "    return coords, moves, len(moves) == L\n",
    "\n",
    "\n",
    "def generate_valid_saw(L):\n",
    "    while True:\n",
    "        coords, moves, valid = generate_loose_saw(L)\n",
    "        if valid:\n",
    "            return coords, moves\n"
   ]
  },
  {
   "cell_type": "code",
   "execution_count": null,
   "id": "5258da52",
   "metadata": {},
   "outputs": [
    {
     "data": {
      "text/plain": [
       "([(0, 0),\n",
       "  (-1, 0),\n",
       "  (-1, -1),\n",
       "  (-1, -2),\n",
       "  (-2, -2),\n",
       "  (-3, -2),\n",
       "  (-3, -1),\n",
       "  (-3, 0),\n",
       "  (-2, 0),\n",
       "  (-2, -1),\n",
       "  (-2, -1)],\n",
       " [(-1, 0),\n",
       "  (0, -1),\n",
       "  (0, -1),\n",
       "  (-1, 0),\n",
       "  (-1, 0),\n",
       "  (0, 1),\n",
       "  (0, 1),\n",
       "  (1, 0),\n",
       "  (0, -1)],\n",
       " False)"
      ]
     },
     "execution_count": 42,
     "metadata": {},
     "output_type": "execute_result"
    }
   ],
   "source": [
    "generate_loose_saw(10)"
   ]
  },
  {
   "cell_type": "markdown",
   "id": "eee9cbdb",
   "metadata": {},
   "source": [
    "Let $B(L_A, L_B)$ be the probability that when sampling SAWs of length $L_A$ and $L_B$ independently and uniformly at random, their concatenation is still a SAW.\n",
    "\n",
    "$B(L_A, L_B) = {c_{L_A + L_B} \\over c_{L_A} c_{L_B}}$\n",
    "\n",
    "$\\mu^{L_A} \\approx {c_{L_A + L_B} \\over c_{L_B}} = B(L_A, L_B) c_{L_A}$\n",
    "\n",
    "We can generate samples of SAWs of length $L_A$ and $L_B$ to estimate $B(L_A, L_B)$"
   ]
  },
  {
   "cell_type": "code",
   "execution_count": 152,
   "id": "b10993ec",
   "metadata": {},
   "outputs": [],
   "source": [
    "def estimate_B(L_A, L_B, n):\n",
    "    Z = [(generate_valid_saw(L_A), generate_valid_saw(L_B)) for _ in range(n)]\n",
    "\n",
    "    failures = 0\n",
    "    for z_A, z_B in Z:\n",
    "        visited = set(z_A[0])\n",
    "        back_moves = z_B[1]\n",
    "        curr_coord = z_A[0][-1]\n",
    "        for move in back_moves:\n",
    "            new_coord = (curr_coord[0] + move[0], curr_coord[1] + move[1])\n",
    "            if new_coord in visited:\n",
    "                failures += 1\n",
    "                break\n",
    "            else:\n",
    "                curr_coord = new_coord\n",
    "                visited.add(new_coord)\n",
    "\n",
    "    return 1 - (failures / n)\n",
    "\n",
    "\n",
    "# estimates c_{L_A + L_B}\n",
    "def estimate_c(L_A, L_B, c_L_A, c_L_B, n):\n",
    "    return estimate_B(L_A, L_B, n) * (c_L_A * c_L_B)\n",
    "\n",
    "\n",
    "def estimate_mu(C):\n",
    "    mus = []\n",
    "    for c1, c2 in zip(C[:-1], C[1:]):\n",
    "        mus.append((c2[1]/c1[1]) ** (1 / c1[0]))\n",
    "    return mus\n"
   ]
  },
  {
   "cell_type": "code",
   "execution_count": 146,
   "id": "50d707ae",
   "metadata": {},
   "outputs": [
    {
     "data": {
      "text/plain": [
       "826155287.9999999"
      ]
     },
     "execution_count": 146,
     "metadata": {},
     "output_type": "execute_result"
    }
   ],
   "source": [
    "estimate_c(10, 10, 44100, 44100, 10_000)"
   ]
  },
  {
   "cell_type": "code",
   "execution_count": 149,
   "id": "af1781d3",
   "metadata": {},
   "outputs": [
    {
     "name": "stdout",
     "output_type": "stream",
     "text": [
      "Working on L = 20...\n",
      "Working on L = 40...\n",
      "Working on L = 80...\n",
      "Working on L = 160...\n",
      "Working on L = 320...\n",
      "Working on L = 640...\n"
     ]
    },
    {
     "data": {
      "text/plain": [
       "[(10, 44100),\n",
       " (20, 847353717.0),\n",
       " (40, 2.3478872120038512e+17),\n",
       " (80, 1.3450681439110571e+34),\n",
       " (160, 3.1462132541581814e+67),\n",
       " (320, 1.3056329691804971e+134),\n",
       " (640, 1.65694648160517e+267)]"
      ]
     },
     "execution_count": 149,
     "metadata": {},
     "output_type": "execute_result"
    }
   ],
   "source": [
    "C = [(10, 44100)]\n",
    "n = 10_000\n",
    "stopping_condition = 640 # stops when the last L is less than this value\n",
    "\n",
    "while C[-1][0] < stopping_condition:\n",
    "    L, c_L = C[-1]\n",
    "    print(f'Working on L = {2*L}...')\n",
    "    C.append((L*2, estimate_c(L, L, c_L, c_L, n)))\n",
    "\n",
    "C"
   ]
  },
  {
   "cell_type": "code",
   "execution_count": 153,
   "id": "96c21ac5",
   "metadata": {},
   "outputs": [
    {
     "data": {
      "text/plain": [
       "[2.681406235260524,\n",
       " 2.6432036452443666,\n",
       " 2.6239265650403336,\n",
       " 2.612841397591208,\n",
       " 2.6083310177569987,\n",
       " 2.6058439106974856]"
      ]
     },
     "execution_count": 153,
     "metadata": {},
     "output_type": "execute_result"
    }
   ],
   "source": [
    "estimate_mu(C)"
   ]
  }
 ],
 "metadata": {
  "kernelspec": {
   "display_name": ".venv",
   "language": "python",
   "name": "python3"
  },
  "language_info": {
   "codemirror_mode": {
    "name": "ipython",
    "version": 3
   },
   "file_extension": ".py",
   "mimetype": "text/x-python",
   "name": "python",
   "nbconvert_exporter": "python",
   "pygments_lexer": "ipython3",
   "version": "3.12.9"
  }
 },
 "nbformat": 4,
 "nbformat_minor": 5
}
