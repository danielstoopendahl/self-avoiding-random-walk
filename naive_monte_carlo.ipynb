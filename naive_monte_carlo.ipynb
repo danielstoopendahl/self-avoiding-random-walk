{
 "cells": [
  {
   "cell_type": "code",
   "execution_count": 3,
   "metadata": {},
   "outputs": [],
   "source": [
    "import random"
   ]
  },
  {
   "cell_type": "code",
   "execution_count": 4,
   "metadata": {},
   "outputs": [],
   "source": [
    "def generate_walk(L):\n",
    "    pos = (0,0)\n",
    "    walk = [pos]\n",
    "    \n",
    "    for i in range(L):\n",
    "        x,y = pos\n",
    "        next_positions = [(x + 1, y), (x - 1, y), (x, y + 1), (x, y - 1)]\n",
    "        pos = random.choice(next_positions)\n",
    "        walk.append(pos)\n",
    "\n",
    "    return walk\n",
    "\n",
    "\n",
    "def non_intersecting(walks):\n",
    "    non_intersecting = []\n",
    "    for walk in walks:\n",
    "        if len(walk) == len(set(walk)):\n",
    "            non_intersecting.append(walk)\n",
    "    return non_intersecting\n",
    "\n",
    "def estimate_c_L(ratio, L): \n",
    "    return ratio * 4**L"
   ]
  },
  {
   "cell_type": "code",
   "execution_count": 14,
   "metadata": {},
   "outputs": [
    {
     "name": "stdout",
     "output_type": "stream",
     "text": [
      "Ratio of accepted walks: 1.6e-05\n",
      "c_L estimate: 18446744073709.55\n"
     ]
    }
   ],
   "source": [
    "L = 30 # Length of walk\n",
    "N = 500_000 # Nbr iterations\n",
    "\n",
    "multiple_walks = [generate_walk(L) for i in range(N)]\n",
    "\n",
    "non_intersecting_walks = non_intersecting(multiple_walks)\n",
    "\n",
    "ratio = len(non_intersecting_walks)/len(multiple_walks)\n",
    "\n",
    "c_L = estimate_c_L(ratio, L)\n",
    "\n",
    "print(f\"Ratio of accepted walks: {ratio}\")\n",
    "print(f\"c_L estimate: {c_L}\")"
   ]
  }
 ],
 "metadata": {
  "kernelspec": {
   "display_name": "base",
   "language": "python",
   "name": "python3"
  },
  "language_info": {
   "codemirror_mode": {
    "name": "ipython",
    "version": 3
   },
   "file_extension": ".py",
   "mimetype": "text/x-python",
   "name": "python",
   "nbconvert_exporter": "python",
   "pygments_lexer": "ipython3",
   "version": "3.12.2"
  }
 },
 "nbformat": 4,
 "nbformat_minor": 2
}
