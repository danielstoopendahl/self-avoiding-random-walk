{
 "cells": [
  {
   "cell_type": "code",
   "execution_count": 29,
   "metadata": {},
   "outputs": [],
   "source": [
    "import numpy as np\n",
    "import random"
   ]
  },
  {
   "cell_type": "code",
   "execution_count": null,
   "metadata": {},
   "outputs": [],
   "source": [
    "def generate_walk(L):\n",
    "    walk = []\n",
    "    pos = (0,0)\n",
    "    for i in range(L):\n",
    "        walk.append(pos)\n",
    "        x,y = pos\n",
    "        next_positions = [(x + 1, y), (x - 1, y), (x, y + 1), (x, y - 1)]\n",
    "        pos = random.choice(next_positions)\n",
    "\n",
    "    return walk\n",
    "\n",
    "\n",
    "def non_intersecting(walks):\n",
    "    non_intersecting = []\n",
    "    for walk in walks:\n",
    "        if len(walk) == len(set(walk)):\n",
    "            non_intersecting.append(walk)\n",
    "    return non_intersecting"
   ]
  },
  {
   "cell_type": "code",
   "execution_count": 42,
   "metadata": {},
   "outputs": [
    {
     "name": "stdout",
     "output_type": "stream",
     "text": [
      "0.06174\n"
     ]
    }
   ],
   "source": [
    "L = 10 # Length of walk\n",
    "N = 100_000 # Nbr iterations\n",
    "\n",
    "multiple_walks = [generate_walk(L) for i in range(N)]\n",
    "\n",
    "non_intersecting_walks = non_intersecting(multiple_walks)\n",
    "\n",
    "ratio = len(non_intersecting_walks)/len(multiple_walks)\n",
    "\n",
    "print(ratio)"
   ]
  }
 ],
 "metadata": {
  "kernelspec": {
   "display_name": "base",
   "language": "python",
   "name": "python3"
  },
  "language_info": {
   "codemirror_mode": {
    "name": "ipython",
    "version": 3
   },
   "file_extension": ".py",
   "mimetype": "text/x-python",
   "name": "python",
   "nbconvert_exporter": "python",
   "pygments_lexer": "ipython3",
   "version": "3.12.2"
  }
 },
 "nbformat": 4,
 "nbformat_minor": 2
}
